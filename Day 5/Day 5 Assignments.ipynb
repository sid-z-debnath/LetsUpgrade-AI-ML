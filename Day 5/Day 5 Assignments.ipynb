{
 "cells": [
  {
   "cell_type": "markdown",
   "metadata": {},
   "source": [
    "__Question 1 :__\n",
    "Write a Python program to find the first 20 non-even prime natural numbers."
   ]
  },
  {
   "cell_type": "code",
   "execution_count": 7,
   "metadata": {},
   "outputs": [
    {
     "name": "stdout",
     "output_type": "stream",
     "text": [
      "3 5 7 11 13 17 19 23 29 31 37 41 43 47 53 59 61 67 71 73 79 "
     ]
    }
   ],
   "source": [
    "n = 3\n",
    "l = []\n",
    "\n",
    "while len(l) <= 20:\n",
    "    f = True\n",
    "    \n",
    "    for i in range(2, n):\n",
    "        if n%i == 0:\n",
    "            f = False\n",
    "            break\n",
    "\n",
    "    if f == True:\n",
    "        l.append(n)       \n",
    "    n += 1\n",
    "\n",
    "for i in l:\n",
    "    print(i, end=\" \")"
   ]
  },
  {
   "cell_type": "markdown",
   "metadata": {},
   "source": [
    "__Question 2 :__ Write a Python program to implement 15 functions of string."
   ]
  },
  {
   "cell_type": "code",
   "execution_count": 30,
   "metadata": {
    "scrolled": false
   },
   "outputs": [
    {
     "name": "stdout",
     "output_type": "stream",
     "text": [
      "Functions of String\n",
      "*********************************************\n",
      "  Sherlock Holmes' address: 221b Baker St. \n",
      "---------------------------------------------\n",
      "Length of string: 43 \n",
      "\n",
      "Find index of first occurance of a specific substring: 28 \n",
      "\n",
      "Check whether the string is alphanumeric: False \n",
      "\n",
      "Check whether the string contains ASCII characters: True \n",
      "\n",
      "Check whether the string ends with a specific character: False \n",
      "\n",
      "Check whether the string contains space(s): False \n",
      "\n",
      "Change the whole string to uppercase:   SHERLOCK HOLMES' ADDRESS: 221B BAKER ST.  \n",
      "\n",
      "Replace a specific substring inside the string:   Sherlock Holmes' address is 221b Baker St.  \n",
      "\n",
      "Split the string into substrings separed by a delimiter(default is space): ['Sherlock', \"Holmes'\", 'address:', '221b', 'Baker', 'St.'] \n",
      "\n",
      "Trim all spaces at the beginning and end of the string: Sherlock Holmes' address: 221b Baker St. \n",
      "\n",
      "Toggle the case of the whole string:   sHERLOCK hOLMES' ADDRESS: 221B bAKER sT.  \n",
      "\n",
      "Change each word of the string to titlecase:   Sherlock Holmes' Address: 221B Baker St.  \n",
      "\n",
      "Count the number of occurances of a specific substring in the string: 4 \n",
      "\n",
      "Find index of first occurance of a specific substring: 31 \n",
      "\n",
      "Partition the string into three parts using the given separator: (\"  Sherlock Holmes' address\", ':', ' 221b Baker St. ') \n",
      "\n"
     ]
    }
   ],
   "source": [
    "s = \"  Sherlock Holmes' address: 221b Baker St. \"\n",
    "\n",
    "print(\"Functions of String\")\n",
    "print(\"*\"*45)\n",
    "print(s)\n",
    "print(\"-\"*45)\n",
    "print(\"Length of string: {} \\n\".format(len(s)))\n",
    "print(\"Find index of first occurance of a specific substring: {} \\n\".format(s.find('221')))\n",
    "print(\"Check whether the string is alphanumeric: {} \\n\".format(s.isalnum()))\n",
    "print(\"Check whether the string contains ASCII characters: {} \\n\".format(s.isascii()))\n",
    "print(\"Check whether the string ends with a specific character: {} \\n\".format(s.endswith('.')))\n",
    "print(\"Check whether the string contains space(s): {} \\n\".format(s.isspace()))\n",
    "print(\"Change the whole string to uppercase: {} \\n\".format(s.upper()))\n",
    "print(\"Replace a specific substring inside the string: {} \\n\".format(s.replace(':', ' is')))\n",
    "print(\"Split the string into substrings separed by a delimiter(default is space): {} \\n\".format(s.split()))\n",
    "print(\"Trim all spaces at the beginning and end of the string: {} \\n\".format(s.strip()))\n",
    "print(\"Toggle the case of the whole string: {} \\n\".format(s.swapcase()))\n",
    "print(\"Change each word of the string to titlecase: {} \\n\".format(s.title()))\n",
    "print(\"Count the number of occurances of a specific substring in the string: {} \\n\".format(s.count('e')))\n",
    "print(\"Find index of first occurance of a specific substring: {} \\n\".format(s.index('b')))\n",
    "print(\"Partition the string into three parts using the given separator: {} \\n\".format(s.partition(':')))"
   ]
  },
  {
   "cell_type": "markdown",
   "metadata": {},
   "source": [
    "__Question 3:__ Write a Python program to check if the given string is a Palindrome or Anagram or None of them.\n",
    "Display the message accordingly to the user."
   ]
  },
  {
   "cell_type": "code",
   "execution_count": 37,
   "metadata": {},
   "outputs": [
    {
     "name": "stdout",
     "output_type": "stream",
     "text": [
      "Enter the first string a: malayalam\n",
      "Enter the second string b: mamalalay\n",
      "malayalam is a Palindrome\n",
      "mamalalay is not a Palindrome\n",
      "malayalam and mamalalay are Anagrams\n"
     ]
    }
   ],
   "source": [
    "def palindrome(s):\n",
    "    sl = s.lower()\n",
    "    if sl == sl[::-1]:\n",
    "        print(\"{} is a Palindrome\".format(s))\n",
    "    else:\n",
    "        print(\"{} is not a Palindrome\".format(s))\n",
    "\n",
    "def anagram(x, y):\n",
    "    xl = x.lower()\n",
    "    yl = y.lower()\n",
    "    \n",
    "    if sorted(xl)==sorted(yl):\n",
    "        print(\"{} and {} are Anagrams\".format(x, y))\n",
    "    else:\n",
    "        print(\"{} and {} are not Anagrams\".format(x, y))\n",
    "\n",
    "a = input(\"Enter the first string a: \")\n",
    "b = input(\"Enter the second string b: \")\n",
    "\n",
    "palindrome(a)\n",
    "palindrome(b)\n",
    "anagram(a, b)\n",
    "\n"
   ]
  },
  {
   "cell_type": "markdown",
   "metadata": {},
   "source": [
    "__Question 4:__ Write a Python's user defined function that removes all the additional characters from the string\n",
    "and converts it finally to lower case using built-in lower(). eg: If the string is \"Dr. Darshan Ingle\n",
    "@AI-ML Trainer\", then the output be \"drdarshaningleaimltrainer\"."
   ]
  },
  {
   "cell_type": "code",
   "execution_count": 44,
   "metadata": {},
   "outputs": [
    {
     "name": "stdout",
     "output_type": "stream",
     "text": [
      "Enter a string: Dr. Darshan Ingle @AI-ML Trainer\n",
      "After converting the string becomes drdarshaningleaimltrainer\n"
     ]
    }
   ],
   "source": [
    "def convertLower(s):\n",
    "    l = ''\n",
    "    for i in s:\n",
    "        if i.isalpha():\n",
    "            l += i.lower()\n",
    "    print(\"After converting the string becomes {}\".format(l))\n",
    "\n",
    "a = input(\"Enter a string: \")\n",
    "convertLower(a)"
   ]
  }
 ],
 "metadata": {
  "kernelspec": {
   "display_name": "Python 3",
   "language": "python",
   "name": "python3"
  },
  "language_info": {
   "codemirror_mode": {
    "name": "ipython",
    "version": 3
   },
   "file_extension": ".py",
   "mimetype": "text/x-python",
   "name": "python",
   "nbconvert_exporter": "python",
   "pygments_lexer": "ipython3",
   "version": "3.7.3"
  },
  "toc": {
   "base_numbering": 1,
   "nav_menu": {},
   "number_sections": true,
   "sideBar": true,
   "skip_h1_title": false,
   "title_cell": "Table of Contents",
   "title_sidebar": "Contents",
   "toc_cell": false,
   "toc_position": {},
   "toc_section_display": true,
   "toc_window_display": false
  },
  "varInspector": {
   "cols": {
    "lenName": 16,
    "lenType": 16,
    "lenVar": 40
   },
   "kernels_config": {
    "python": {
     "delete_cmd_postfix": "",
     "delete_cmd_prefix": "del ",
     "library": "var_list.py",
     "varRefreshCmd": "print(var_dic_list())"
    },
    "r": {
     "delete_cmd_postfix": ") ",
     "delete_cmd_prefix": "rm(",
     "library": "var_list.r",
     "varRefreshCmd": "cat(var_dic_list()) "
    }
   },
   "types_to_exclude": [
    "module",
    "function",
    "builtin_function_or_method",
    "instance",
    "_Feature"
   ],
   "window_display": false
  }
 },
 "nbformat": 4,
 "nbformat_minor": 2
}
