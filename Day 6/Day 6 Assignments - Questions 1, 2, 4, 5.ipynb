{
 "cells": [
  {
   "cell_type": "markdown",
   "metadata": {},
   "source": [
    "**Question 1:**\n",
    "Assuming that we have some email addresses in the \"username@companyname.com\" format, please write program\n",
    "to print the company name of a given email address. Both user names and company names are composed of letters\n",
    "only.\n",
    "\n",
    "Input Format:<br/>The first line of the input contains an email address.\n",
    "<br/>Output Format:\n",
    "<br/>Print the company name in single line.\n",
    "<br/>Example;\n",
    "<br/>Input:\n",
    "<br/>john@google.com\n",
    "<br/>Output:\n",
    "<br/>google"
   ]
  },
  {
   "cell_type": "code",
   "execution_count": 2,
   "metadata": {},
   "outputs": [
    {
     "name": "stdout",
     "output_type": "stream",
     "text": [
      "Enter an email: john@google.com\n",
      "Company name: google\n"
     ]
    }
   ],
   "source": [
    "email = input(\"Enter an email: \")\n",
    "print(\"Company name: {}\".format(email.partition('@')[2].partition('.')[0]))"
   ]
  },
  {
   "cell_type": "markdown",
   "metadata": {},
   "source": [
    "**Question 2:**\n",
    "Write a program that accepts a comma-separated sequence of words as input and prints the words in a comma\n",
    "separated sequence after sorting them alphabetically.\n",
    "\n",
    "Input Format:\n",
    "<br/>The first line of input contains words separated by the comma.\n",
    "<br/>Output Format:\n",
    "<br/>Print the sorted words separated by the comma.\n",
    "<br/>Example:\n",
    "<br/>Input:\n",
    "<br/>without,hello,bag,world\n",
    "<br/>Output:\n",
    "<br/>bag,hello,without,world"
   ]
  },
  {
   "cell_type": "code",
   "execution_count": 14,
   "metadata": {},
   "outputs": [
    {
     "name": "stdout",
     "output_type": "stream",
     "text": [
      "Enter comma-separated sequence of words: without,hello,bag,world\n",
      "Alphabetically sorted words: bag,hello,without,world\n"
     ]
    }
   ],
   "source": [
    "w = input(\"Enter comma-separated sequence of words: \")\n",
    "w = w.split(',')\n",
    "w.sort()\n",
    "print(\"Alphabetically sorted words: \", end=\"\")\n",
    "for i in w:\n",
    "    if i != w[-1]:\n",
    "        print(i, end=',')\n",
    "    else:\n",
    "        print(i)"
   ]
  },
  {
   "cell_type": "markdown",
   "metadata": {},
   "source": [
    "**Question 4:**\n",
    "Given a list of n-1 numbers ranging from 1 to n, your task is to find the missing number. There are no duplicates.\n",
    "\n",
    "Input Format:\n",
    "<br/>The first line contains n-1 numbers with each number separated by a space.\n",
    "<br/>Output Format:\n",
    "<br/>Print the missing number\n",
    "<br/>Example:\n",
    "<br/>Input:1 2 4 6 3 7 8\n",
    "<br/>Output:5\n",
    "<br/>Explanation:\n",
    "<br/>In the above list of numbers 5 is missing and hence 5 is the input"
   ]
  },
  {
   "cell_type": "code",
   "execution_count": 25,
   "metadata": {},
   "outputs": [
    {
     "name": "stdout",
     "output_type": "stream",
     "text": [
      "Enter a range of numbers separated by space: 1 2 4 6 3 7 8 10\n",
      "The missing number(s): 5 9 "
     ]
    }
   ],
   "source": [
    "n = input(\"Enter a range of numbers separated by space: \")\n",
    "n = [int(x) for x in n.split()]\n",
    "print(\"The missing number(s): \", end=\"\")\n",
    "for i in range(n[0], n[-1]+1):\n",
    "    if i not in n:\n",
    "        print(i, end=\" \")"
   ]
  },
  {
   "cell_type": "markdown",
   "metadata": {},
   "source": [
    "**Question 5:**\n",
    "With a given list L, write a program to print this list L after removing all duplicate values with original order reserved.\n",
    "\n",
    "Example:\n",
    "<br/>If the input list is\n",
    "<br/>12 24 35 24 88 120 155 88 120 155\n",
    "\n",
    "Then the output should be\n",
    "<br/>12 24 35 88 120 155\n",
    "\n",
    "Explanation:\n",
    "<br/>Third, seventh and ninth element of the list L has been removed because it was already present.\n",
    "<br/>Input Format:\n",
    "<br/>In one line take the elements of the list L with each element separated by a space.\n",
    "<br/>Output Format:\n",
    "<br/>Print the elements of the modified list in one line with each element separated by a space.\n",
    "<br/>Example:\n",
    "<br/>Input: 12 24 35 24\n",
    "<br/>Output:\n",
    "<br/>12 24 35"
   ]
  },
  {
   "cell_type": "code",
   "execution_count": 7,
   "metadata": {},
   "outputs": [
    {
     "name": "stdout",
     "output_type": "stream",
     "text": [
      "Enter a list of numbers, L: 12 24 35 24 88 120 155 88 120 155\n",
      "After removing all duplicate values, L: 12 120 155 24 35 88\n"
     ]
    }
   ],
   "source": [
    "L = input(\"Enter a list of numbers, L: \")\n",
    "s = list(map(str, sorted(set(L.split()))))\n",
    "print(\"After removing all duplicate values, L: {}\".format(' '.join(s)))"
   ]
  }
 ],
 "metadata": {
  "kernelspec": {
   "display_name": "Python 3",
   "language": "python",
   "name": "python3"
  },
  "language_info": {
   "codemirror_mode": {
    "name": "ipython",
    "version": 3
   },
   "file_extension": ".py",
   "mimetype": "text/x-python",
   "name": "python",
   "nbconvert_exporter": "python",
   "pygments_lexer": "ipython3",
   "version": "3.7.3"
  },
  "toc": {
   "base_numbering": 1,
   "nav_menu": {},
   "number_sections": true,
   "sideBar": true,
   "skip_h1_title": false,
   "title_cell": "Table of Contents",
   "title_sidebar": "Contents",
   "toc_cell": false,
   "toc_position": {},
   "toc_section_display": true,
   "toc_window_display": false
  },
  "varInspector": {
   "cols": {
    "lenName": 16,
    "lenType": 16,
    "lenVar": 40
   },
   "kernels_config": {
    "python": {
     "delete_cmd_postfix": "",
     "delete_cmd_prefix": "del ",
     "library": "var_list.py",
     "varRefreshCmd": "print(var_dic_list())"
    },
    "r": {
     "delete_cmd_postfix": ") ",
     "delete_cmd_prefix": "rm(",
     "library": "var_list.r",
     "varRefreshCmd": "cat(var_dic_list()) "
    }
   },
   "types_to_exclude": [
    "module",
    "function",
    "builtin_function_or_method",
    "instance",
    "_Feature"
   ],
   "window_display": false
  }
 },
 "nbformat": 4,
 "nbformat_minor": 2
}
