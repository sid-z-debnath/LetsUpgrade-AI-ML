{
 "cells": [
  {
   "cell_type": "markdown",
   "metadata": {},
   "source": [
    "__Question 1 :__\n",
    "Write a program to subtract two complex numbers in Python."
   ]
  },
  {
   "cell_type": "code",
   "execution_count": 17,
   "metadata": {},
   "outputs": [
    {
     "name": "stdout",
     "output_type": "stream",
     "text": [
      "Enter the first complex number (in a+bj format): 5-3j\n",
      "Enter the second complex number (in a+bj format): 2-3j\n",
      "(5-3j) - (2-3j) = (3+0j)\n"
     ]
    }
   ],
   "source": [
    "c1 = complex(input(\"Enter the first complex number (in a+bj format): \"))\n",
    "c2 = complex(input(\"Enter the second complex number (in a+bj format): \"))\n",
    "\n",
    "print(\"{} - {} = {}\".format(c1, c2, c1-c2))"
   ]
  },
  {
   "cell_type": "markdown",
   "metadata": {},
   "source": [
    "__Question 2 :__ Write a program to find the fourth root of a number."
   ]
  },
  {
   "cell_type": "code",
   "execution_count": 3,
   "metadata": {},
   "outputs": [
    {
     "name": "stdout",
     "output_type": "stream",
     "text": [
      "Enter a number: 16\n",
      "The fourth root of 16 is 2.0\n"
     ]
    }
   ],
   "source": [
    "from math import sqrt\n",
    "\n",
    "n = input(\"Enter a number: \")\n",
    "c = float(n)\n",
    "print(\"The fourth root of {} is {}\".format(n, sqrt(sqrt(c))))"
   ]
  },
  {
   "cell_type": "markdown",
   "metadata": {},
   "source": [
    "__Question 3:__ Write a program to swap two numbers in Python with the help of a temporary variable."
   ]
  },
  {
   "cell_type": "code",
   "execution_count": 4,
   "metadata": {},
   "outputs": [
    {
     "name": "stdout",
     "output_type": "stream",
     "text": [
      "Enter the first number a: 5\n",
      "Enter the second number b: 3\n",
      "After swapping a becomes 3 and b becomes 5\n"
     ]
    }
   ],
   "source": [
    "a = input(\"Enter the first number a: \")\n",
    "b = input(\"Enter the second number b: \")\n",
    "\n",
    "t = a\n",
    "a = b\n",
    "b = t\n",
    "\n",
    "print(\"After swapping a becomes {} and b becomes {}\".format(a, b))"
   ]
  },
  {
   "cell_type": "markdown",
   "metadata": {},
   "source": [
    "__Question 4:__ Write a program to swap two numbers in Python without using a temporary variable."
   ]
  },
  {
   "cell_type": "code",
   "execution_count": 5,
   "metadata": {},
   "outputs": [
    {
     "name": "stdout",
     "output_type": "stream",
     "text": [
      "Enter the first number a: 5\n",
      "Enter the second number b: 3\n",
      "After swapping a becomes 3 and b becomes 5\n"
     ]
    }
   ],
   "source": [
    "a = int(input(\"Enter the first number a: \"))\n",
    "b = int(input(\"Enter the second number b: \"))\n",
    "\n",
    "a = a + b\n",
    "b = a - b\n",
    "a = a - b\n",
    "\n",
    "print(\"After swapping a becomes {} and b becomes {}\".format(a, b))"
   ]
  },
  {
   "cell_type": "markdown",
   "metadata": {},
   "source": [
    "__Question 5:__ Write a program to convert fahrenheit to kelvin and celsius both."
   ]
  },
  {
   "cell_type": "code",
   "execution_count": 8,
   "metadata": {},
   "outputs": [
    {
     "name": "stdout",
     "output_type": "stream",
     "text": [
      "Enter temperature in Fahrenheit: 98.4\n",
      "the temperature in Celcius: 36.888888888888886°C\n",
      "the temperature in Kelvin: 309.8888888888889K\n"
     ]
    }
   ],
   "source": [
    "f = float(input(\"Enter temperature in Fahrenheit: \"))\n",
    "\n",
    "c = 5 * (f - 32) / 9\n",
    "k = c + 273\n",
    "\n",
    "print(\"the temperature in Celcius: {}°C\".format(c))\n",
    "print(\"the temperature in Kelvin: {}K\".format(k))"
   ]
  },
  {
   "cell_type": "markdown",
   "metadata": {},
   "source": [
    "__Question 6:__ Write a program to demonstrate all the available data types in Python. Hint: Use type() function."
   ]
  },
  {
   "cell_type": "code",
   "execution_count": 24,
   "metadata": {},
   "outputs": [
    {
     "name": "stdout",
     "output_type": "stream",
     "text": [
      "Data Types in Python\n",
      "********************\n",
      "Data type of 5 is <class 'int'>\n",
      "Data type of 5.25 is <class 'float'>\n",
      "Data type of (5+3j) is <class 'complex'>\n",
      "Data type of Hello World! is <class 'str'>\n",
      "Data type of [1, 2, 3, 4] is <class 'list'>\n",
      "Data type of (1, 2, 3, 4) is <class 'tuple'>\n",
      "Data type of {1, 2, 3, 4} is <class 'set'>\n",
      "Data type of {1: 'a', 2: 'b'} is <class 'dict'>\n",
      "Data type of True is <class 'bool'>\n"
     ]
    }
   ],
   "source": [
    "print(\"Data Types in Python\")\n",
    "print(\"*\"*20)\n",
    "print(\"Data type of {} is {}\".format(5, type(5)))\n",
    "print(\"Data type of {} is {}\".format(5.25, type(5.25)))\n",
    "print(\"Data type of {} is {}\".format(5+3j, type(5+3j)))\n",
    "print(\"Data type of {} is {}\".format(\"Hello World!\", type(\"Hello World!\")))\n",
    "print(\"Data type of {} is {}\".format([1, 2, 3, 4], type([1, 2, 3, 4])))\n",
    "print(\"Data type of {} is {}\".format((1, 2, 3, 4), type((1, 2, 3, 4))))\n",
    "print(\"Data type of {} is {}\".format({1, 2, 3, 4}, type({1, 2, 3, 4})))\n",
    "print(\"Data type of {} is {}\".format({1:'a', 2:'b'}, type({1:'a', 2:'b'})))\n",
    "print(\"Data type of {} is {}\".format(True, type(True)))"
   ]
  },
  {
   "cell_type": "markdown",
   "metadata": {},
   "source": [
    "__Question 7:__ Create a Markdown cell in jupyter and list the steps discussed in the session by Dr. Darshan\n",
    "Ingle sir to create Github profile and upload Githubs Assignment link."
   ]
  },
  {
   "cell_type": "markdown",
   "metadata": {},
   "source": [
    "__Steps to create GitHub profile and upload assignments:__ \n",
    "1. Visit the URL https://github.com.\n",
    "2. Sign Up by providing a username of your choice. your email, and a password.\n",
    "3. Create a public GitHub repository and name it ___LetsUpgrade AI-ML___.\n",
    "4. Keep the assignment files in day-wise folders in your local. For example, Day 3 assignments should be in a folder named 'Day 3'.\n",
    "4. After you done with your assignment, upload the solution to the repo in day-wise manner by using drag and drop feature. Then commit the changes.\n",
    "5. Copy the URL of the folder of that day and paste it in the Assignment Submission Form (Google Form).\n",
    "6. Before the final submission make sure you entered the correct URL by visiting the URL from an incognito/private browsing window.\n",
    "7. After submitting the Assignment Submission Form, you will receive a confirmation email in your mailbox."
   ]
  }
 ],
 "metadata": {
  "kernelspec": {
   "display_name": "Python 3",
   "language": "python",
   "name": "python3"
  },
  "language_info": {
   "codemirror_mode": {
    "name": "ipython",
    "version": 3
   },
   "file_extension": ".py",
   "mimetype": "text/x-python",
   "name": "python",
   "nbconvert_exporter": "python",
   "pygments_lexer": "ipython3",
   "version": "3.7.3"
  },
  "toc": {
   "base_numbering": 1,
   "nav_menu": {},
   "number_sections": true,
   "sideBar": true,
   "skip_h1_title": false,
   "title_cell": "Table of Contents",
   "title_sidebar": "Contents",
   "toc_cell": false,
   "toc_position": {},
   "toc_section_display": true,
   "toc_window_display": false
  },
  "varInspector": {
   "cols": {
    "lenName": 16,
    "lenType": 16,
    "lenVar": 40
   },
   "kernels_config": {
    "python": {
     "delete_cmd_postfix": "",
     "delete_cmd_prefix": "del ",
     "library": "var_list.py",
     "varRefreshCmd": "print(var_dic_list())"
    },
    "r": {
     "delete_cmd_postfix": ") ",
     "delete_cmd_prefix": "rm(",
     "library": "var_list.r",
     "varRefreshCmd": "cat(var_dic_list()) "
    }
   },
   "types_to_exclude": [
    "module",
    "function",
    "builtin_function_or_method",
    "instance",
    "_Feature"
   ],
   "window_display": false
  }
 },
 "nbformat": 4,
 "nbformat_minor": 2
}
