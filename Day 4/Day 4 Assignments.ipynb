{
 "cells": [
  {
   "cell_type": "markdown",
   "metadata": {},
   "source": [
    "__Question 1 :__\n",
    "Research on whether addition, subtraction, multiplication, division, floor division and modulo\n",
    "operations be performed on complex numbers. Based on your study, implement a Python\n",
    "program to demonstrate these operations."
   ]
  },
  {
   "cell_type": "code",
   "execution_count": 3,
   "metadata": {},
   "outputs": [
    {
     "name": "stdout",
     "output_type": "stream",
     "text": [
      "For complex numbers addition, subtraction, multiplication, division \n",
      "are possible but floor division and modulo do not work in Python\n",
      "\n",
      "Enter the first complex number (in a+bj format): 5+3j\n",
      "Enter the second complex number (in a+bj format): 6-4j\n",
      "Addition: (5+3j) + (6-4j) = (11-1j)\n",
      "Subtraction: (5+3j) - (6-4j) = (-1+7j)\n",
      "Multiplication: (5+3j) * (6-4j) = (42-2j)\n",
      "Division: (5+3j) / (6-4j) = (0.3461538461538462+0.7307692307692308j)\n"
     ]
    }
   ],
   "source": [
    "print(\"\"\"For complex numbers addition, subtraction, multiplication, division \n",
    "are possible but floor division and modulo do not work in Python\\n\"\"\")\n",
    "\n",
    "c1 = complex(input(\"Enter the first complex number (in a+bj format): \"))\n",
    "c2 = complex(input(\"Enter the second complex number (in a+bj format): \"))\n",
    "\n",
    "print(\"Addition: {} + {} = {}\".format(c1, c2, c1+c2))\n",
    "print(\"Subtraction: {} - {} = {}\".format(c1, c2, c1-c2))\n",
    "print(\"Multiplication: {} * {} = {}\".format(c1, c2, c1*c2))\n",
    "print(\"Division: {} / {} = {}\".format(c1, c2, c1/c2))"
   ]
  },
  {
   "cell_type": "markdown",
   "metadata": {},
   "source": [
    "__Question 2 :__ Research on range() functions and its parameters. Create a markdown cell and write in your own\n",
    "words (no copy-paste from google please) what you understand about it. Implement a small\n",
    "program of your choice on the same."
   ]
  },
  {
   "cell_type": "markdown",
   "metadata": {},
   "source": [
    "__range() function:__ It is a built-in function, which returns a series of numbers. It takes 3 arguments as follows:\n",
    "- start: the series begins with this number(inclusive); default value is 0; \n",
    "- stop: the series ends with this number(exclusive); the series will continue up to (stop - 1); has to be declared when calling the function\n",
    "- step: this is the incremental/decremental step size; if it is a positive number, the series will be incremental, the series will be decremental for negative step; default value of step is 1\n",
    "\n",
    "Above three arguments must be integers.\n",
    "\n",
    "*Example:* If we consider range(1, 11, 1), it will start from 1, will increase by 1(step size) in each step and will continue up to 10 (i.e. 11 - 1). Hence, if we print this, we will get the output 1, 2, 3, 4, 5, 6, 7, 8, 9, 10."
   ]
  },
  {
   "cell_type": "code",
   "execution_count": 6,
   "metadata": {},
   "outputs": [
    {
     "name": "stdout",
     "output_type": "stream",
     "text": [
      "20\n",
      "18\n",
      "16\n",
      "14\n",
      "12\n",
      "10\n",
      "8\n",
      "6\n",
      "4\n",
      "2\n"
     ]
    }
   ],
   "source": [
    "# print all even numbers from 1 to 20 in reverse order\n",
    "\n",
    "for i in range(20, 1, -2):\n",
    "    print(i)"
   ]
  },
  {
   "cell_type": "markdown",
   "metadata": {},
   "source": [
    "__Question 3:__ Consider two numbers. Perform their subtraction and if the result of subtraction is greater than\n",
    "25, print their multiplication result else print their division result."
   ]
  },
  {
   "cell_type": "code",
   "execution_count": 16,
   "metadata": {},
   "outputs": [
    {
     "name": "stdout",
     "output_type": "stream",
     "text": [
      "Enter the first number a: 50\n",
      "Enter the second number b: 25\n",
      "a / b = 2.0\n"
     ]
    }
   ],
   "source": [
    "a = int(input(\"Enter the first number a: \"))\n",
    "b = int(input(\"Enter the second number b: \"))\n",
    "\n",
    "s = a - b\n",
    "\n",
    "if (s > 25):\n",
    "    print(\"a * b =\", a * b)\n",
    "else:\n",
    "    print(\"a / b =\", a / b)"
   ]
  },
  {
   "cell_type": "markdown",
   "metadata": {},
   "source": [
    "__Question 4:__ Consider a list of 10 elements of integer values. If the number in the list is divisible by 2, print the\n",
    "result as \"square of that number minus 2\"."
   ]
  },
  {
   "cell_type": "code",
   "execution_count": 2,
   "metadata": {},
   "outputs": [
    {
     "name": "stdout",
     "output_type": "stream",
     "text": [
      "Enter number 1: 40\n",
      "Enter number 2: 2\n",
      "Enter number 3: 14\n",
      "Enter number 4: 9\n",
      "Enter number 5: 10\n",
      "Enter number 6: 13\n",
      "Enter number 7: 15\n",
      "Enter number 8: 7\n",
      "Enter number 9: 20\n",
      "Enter number 10: 25\n",
      "\n",
      "\n",
      "[1598, 2, 194, 98, 398]\n"
     ]
    }
   ],
   "source": [
    "l = []\n",
    "for i in range(1, 11):\n",
    "    n = int(input(\"Enter number {}: \".format(i)))\n",
    "    if(n%2 == 0):\n",
    "        l.append(n**2 - 2)\n",
    "\n",
    "print('\\n')\n",
    "print(l)"
   ]
  },
  {
   "cell_type": "markdown",
   "metadata": {},
   "source": [
    "__Question 5:__ Consider a list of 10 elements. Print all the elements in the list which are greater than 7 when that\n",
    "number is divided 2."
   ]
  },
  {
   "cell_type": "code",
   "execution_count": 3,
   "metadata": {
    "scrolled": true
   },
   "outputs": [
    {
     "name": "stdout",
     "output_type": "stream",
     "text": [
      "Enter number 1: 40\n",
      "Enter number 2: 2\n",
      "Enter number 3: 14\n",
      "Enter number 4: 9\n",
      "Enter number 5: 10\n",
      "Enter number 6: 13\n",
      "Enter number 7: 15\n",
      "Enter number 8: 7\n",
      "Enter number 9: 20\n",
      "Enter number 10: 25\n",
      "\n",
      "\n",
      "[40, 15, 20, 25]\n"
     ]
    }
   ],
   "source": [
    "l = []\n",
    "for i in range(1, 11):\n",
    "    n = int(input(\"Enter number {}: \".format(i)))\n",
    "    if(n/2 > 7):\n",
    "        l.append(n)\n",
    "print('\\n')\n",
    "print(l)"
   ]
  }
 ],
 "metadata": {
  "kernelspec": {
   "display_name": "Python 3",
   "language": "python",
   "name": "python3"
  },
  "language_info": {
   "codemirror_mode": {
    "name": "ipython",
    "version": 3
   },
   "file_extension": ".py",
   "mimetype": "text/x-python",
   "name": "python",
   "nbconvert_exporter": "python",
   "pygments_lexer": "ipython3",
   "version": "3.7.3"
  },
  "toc": {
   "base_numbering": 1,
   "nav_menu": {},
   "number_sections": true,
   "sideBar": true,
   "skip_h1_title": false,
   "title_cell": "Table of Contents",
   "title_sidebar": "Contents",
   "toc_cell": false,
   "toc_position": {},
   "toc_section_display": true,
   "toc_window_display": false
  },
  "varInspector": {
   "cols": {
    "lenName": 16,
    "lenType": 16,
    "lenVar": 40
   },
   "kernels_config": {
    "python": {
     "delete_cmd_postfix": "",
     "delete_cmd_prefix": "del ",
     "library": "var_list.py",
     "varRefreshCmd": "print(var_dic_list())"
    },
    "r": {
     "delete_cmd_postfix": ") ",
     "delete_cmd_prefix": "rm(",
     "library": "var_list.r",
     "varRefreshCmd": "cat(var_dic_list()) "
    }
   },
   "types_to_exclude": [
    "module",
    "function",
    "builtin_function_or_method",
    "instance",
    "_Feature"
   ],
   "window_display": false
  }
 },
 "nbformat": 4,
 "nbformat_minor": 2
}
